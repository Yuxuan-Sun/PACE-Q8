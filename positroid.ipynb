{
 "cells": [
  {
   "cell_type": "code",
   "execution_count": 7,
   "metadata": {},
   "outputs": [],
   "source": [
    "import sage.matroids.matroid\n",
    "from operator import xor\n",
    "import functools"
   ]
  },
  {
   "cell_type": "code",
   "execution_count": 119,
   "metadata": {},
   "outputs": [],
   "source": [
    "def iOrder(a,b,t=1):\n",
    "    # a <_t b, return negative\n",
    "    # a >_t b, return positive\n",
    "    \n",
    "    if a == b: return 0\n",
    "    if xor((a < t),(b < t)):\n",
    "        return -(a-b)\n",
    "    return a-b"
   ]
  },
  {
   "cell_type": "code",
   "execution_count": 185,
   "metadata": {},
   "outputs": [],
   "source": [
    "def galeHelper(I,order=1):\n",
    "    I.sort()\n",
    "    if order == 1: return I\n",
    "    \n",
    "    result=[]\n",
    "    for i in range(len(I)):\n",
    "        if I[i] >= order:\n",
    "            result = I[i:] + I[:i]\n",
    "            break\n",
    "    if len(result) == 0: return I\n",
    "    return result"
   ]
  },
  {
   "cell_type": "code",
   "execution_count": 177,
   "metadata": {},
   "outputs": [],
   "source": [
    "def galeOrder(I,J,order=1):\n",
    "    # non-comparable, return None\n",
    "    # I <=_order J under Gale order, return negative\n",
    "    # I >=_order J, return positive\n",
    "    # I = J, return 0\n",
    "\n",
    "    if len(I) == 0 or len(J) == 0:\n",
    "        return 0\n",
    "    \n",
    "    t = order\n",
    "    \n",
    "    I = galeHelper(I, order)\n",
    "    J = galeHelper(J, order)\n",
    "    \n",
    "    flag = iOrder(I[0],J[0],t)\n",
    "    \n",
    "    for j in range(len(I)):\n",
    "        # compare I,J one by one\n",
    "        current = iOrder(I[j],J[j],t)\n",
    "\n",
    "        if current == 0:\n",
    "            continue #doesn't change whatever we had\n",
    "            \n",
    "        if flag == 0:\n",
    "            flag = current\n",
    "            \n",
    "        if flag != 0 and xor(flag < 0, current < 0):\n",
    "            return None\n",
    "        \n",
    "        \n",
    "    return flag"
   ]
  },
  {
   "cell_type": "code",
   "execution_count": 244,
   "metadata": {},
   "outputs": [],
   "source": [
    "class DecoratedPermutation:\n",
    "    def __init__(self, p, u=[], d=[]):\n",
    "        self.p = Permutation(p)\n",
    "        self.fp = self.p.fixed_points()\n",
    "        if not (set(u+d) <= set(self.fp)):\n",
    "            print(\"decorations are not fixed points!!!\")\n",
    "        self.u = u\n",
    "        self.d = d\n",
    "    def perm(self):\n",
    "        return self.p\n",
    "    def up(self):\n",
    "        return self.u\n",
    "    def down(self):\n",
    "        return self.d\n",
    "    def fixed_points(self):\n",
    "        return self.fp"
   ]
  },
  {
   "cell_type": "code",
   "execution_count": 245,
   "metadata": {},
   "outputs": [],
   "source": [
    "def dpToGrNeck(dp):\n",
    "    n = len(dp.perm())\n",
    "    grNeck = {}\n",
    "    for r in range(1,n+1):\n",
    "        current = []\n",
    "        for i in (list(range(r,n+1))+list(range(1,r))):\n",
    "            pi = dp.perm()\n",
    "            piInv = dp.perm().inverse()\n",
    "            if (iOrder(i,piInv(i),r) < 0) or (pi(i) == i and i in dp.down()):\n",
    "                current.append(i)\n",
    "        grNeck[r] = current\n",
    "    return grNeck\n",
    "\n",
    "def grNeckToDp(grNeck):\n",
    "    n = len(grNeck)\n",
    "    p = []\n",
    "    u = []\n",
    "    d = []\n",
    "    for i in range(1,n):\n",
    "        if grNeck[i+1] != grNeck[i]:\n",
    "            j = set(grNeck[i+1]+grNeck[i]) - set(grNeck[i+1]).intersection(set(grNeck[i]))\n",
    "            j = list(j - set({i}))[0]\n",
    "            p.append(j)\n",
    "        else:\n",
    "            p.append(i)\n",
    "            if i not in grNeck[i]:\n",
    "                u.append(i)\n",
    "            else:\n",
    "                d.append(i)\n",
    "                \n",
    "    left = list(set(range(1,n+1)) - set(p))[0]\n",
    "    p.append(left)\n",
    "    if left == n:\n",
    "        if left not in grNeck[n]:\n",
    "            u.append(left)\n",
    "        else:\n",
    "            d.append(left)\n",
    "\n",
    "    return DecoratedPermutation(p,u,d)"
   ]
  },
  {
   "cell_type": "code",
   "execution_count": 246,
   "metadata": {},
   "outputs": [],
   "source": [
    "def grNeckToBases(grNeck):\n",
    "    n = len(grNeck)\n",
    "    k = len(grNeck[1])\n",
    "    bases = []\n",
    "\n",
    "    for B in Subsets(n,k).list():\n",
    "        B = B.list()\n",
    "        flag = 0\n",
    "        for t in range(1,n+1):\n",
    "            \n",
    "            if galeOrder(grNeck[t], B, t) == None or galeOrder(grNeck[t], B, t) > 0:\n",
    "                flag = 1\n",
    "                break\n",
    "        if flag == 0: bases.append(B)\n",
    "    return bases"
   ]
  },
  {
   "cell_type": "code",
   "execution_count": 247,
   "metadata": {},
   "outputs": [],
   "source": [
    "class Positroid(sage.matroids.matroid.Matroid):\n",
    "    def __init__(self, n, dp=None, grNeck=None):\n",
    "        self.E = list(range(1,n+1))\n",
    "        self.n = n\n",
    "        \n",
    "        if dp != None:\n",
    "            self.dp = dp\n",
    "            self.grNeck = dpToGrNeck(dp)\n",
    "        if grNeck != None:\n",
    "            self.dp = grNeckToDp(grNeck)\n",
    "            self.grNeck = grNeck\n",
    "            \n",
    "    def groundset(self):\n",
    "        return self.E\n",
    "    def _rank(self, X):\n",
    "        M = Matroid(groundset = self.E, bases = grNeckToBases(self.grNeck))\n",
    "        return M.rank(X)\n",
    "        \n",
    "    "
   ]
  },
  {
   "cell_type": "code",
   "execution_count": 248,
   "metadata": {},
   "outputs": [
    {
     "name": "stdout",
     "output_type": "stream",
     "text": [
      "[1, 2, 4, 6]\n",
      "[1, 2, 5, 6]\n",
      "[1, 3, 4, 6]\n",
      "[1, 3, 5, 6]\n",
      "[2, 4, 5, 6]\n",
      "[3, 4, 5, 6]\n"
     ]
    }
   ],
   "source": [
    "for b in Positroid(6, dp=DecoratedPermutation([5,3,2,1,4,6],[],[6])).bases():\n",
    "    print(list(b))"
   ]
  },
  {
   "cell_type": "code",
   "execution_count": 256,
   "metadata": {},
   "outputs": [
    {
     "name": "stdout",
     "output_type": "stream",
     "text": [
      "[5, 3, 2, 1, 4, 6] [] [6]\n"
     ]
    }
   ],
   "source": [
    "grNeck = dpToGrNeck(DecoratedPermutation([5,3,2,1,4,6],[],[6]))\n",
    "dp = grNeckToDp(grNeck)\n",
    "print(dp.perm(),dp.up(),dp.down())"
   ]
  },
  {
   "cell_type": "code",
   "execution_count": 253,
   "metadata": {},
   "outputs": [
    {
     "name": "stdout",
     "output_type": "stream",
     "text": [
      "[1, 2, 4, 6]\n",
      "[1, 2, 5, 6]\n",
      "[1, 3, 4, 6]\n",
      "[1, 3, 5, 6]\n",
      "[2, 4, 5, 6]\n",
      "[3, 4, 5, 6]\n"
     ]
    }
   ],
   "source": [
    "for b in Positroid(6, grNeck=grNeck).bases():\n",
    "    print(list(b))"
   ]
  }
 ],
 "metadata": {
  "kernelspec": {
   "display_name": "SageMath 9.5",
   "language": "sage",
   "name": "sagemath-9.5"
  },
  "language_info": {
   "codemirror_mode": {
    "name": "ipython",
    "version": 3
   },
   "file_extension": ".py",
   "mimetype": "text/x-python",
   "name": "python",
   "nbconvert_exporter": "python",
   "pygments_lexer": "ipython3",
   "version": "3.9.9"
  }
 },
 "nbformat": 4,
 "nbformat_minor": 4
}
